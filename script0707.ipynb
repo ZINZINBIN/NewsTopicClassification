{
  "nbformat": 4,
  "nbformat_minor": 0,
  "metadata": {
    "colab": {
      "name": "script0707",
      "provenance": [],
      "collapsed_sections": [],
      "machine_shape": "hm"
    },
    "kernelspec": {
      "name": "python3",
      "display_name": "Python 3"
    },
    "language_info": {
      "name": "python"
    },
    "accelerator": "GPU"
  },
  "cells": [
    {
      "cell_type": "code",
      "metadata": {
        "id": "IWW2z8WE2eMG"
      },
      "source": [
        "# ================================================================================ #\n",
        "# =========================== Goolge Colab File Upload =========================== #\n",
        "# ================================================================================ #\n",
        "\n",
        "#from google.colab import drive\n",
        "drive.mount('/content/drive')\n",
        "\n",
        "from google.colab import output\n",
        "# !cp 파일1 파일2 # 파일1을 파일2로 복사 붙여넣기\n",
        "!cp \"/content/drive/MyDrive/Colab Notebooks/뉴스 토픽 분류 경진대회/open2.zip\" \"open2.zip\"\n",
        "# data.zip을 현재 디렉터리에 압축해제\n",
        "!unzip \"open2.zip\"\n",
        "output.clear()"
      ],
      "execution_count": 3,
      "outputs": []
    },
    {
      "cell_type": "code",
      "metadata": {
        "id": "exV0dTQE3sAj"
      },
      "source": [
        "# import library \n",
        "import numpy as np\n",
        "from numpy.lib.function_base import _cov_dispatcher\n",
        "import scipy as sp\n",
        "import tensorflow as tf\n",
        "import pandas as pd\n",
        "import os\n",
        "import matplotlib.pyplot as plt\n",
        "import re\n",
        "\n",
        "from sklearn.model_selection import train_test_split\n",
        "\n",
        "# 한국어 형태소 및 문장 분석 라이브러리\n",
        "\n",
        "!pip install git+https://github.com/haven-jeon/PyKoSpacing.git\n",
        "!pip install nltk\n",
        "from pykospacing import Spacing\n",
        "import nltk\n",
        "nltk.download('wordnet')\n",
        "\n",
        "from nltk.corpus import stopwords\n",
        "from nltk.tokenize import word_tokenize\n",
        "from nltk.stem import WordNetLemmatizer\n",
        "output.clear()"
      ],
      "execution_count": null,
      "outputs": []
    },
    {
      "cell_type": "code",
      "metadata": {
        "colab": {
          "base_uri": "https://localhost:8080/",
          "height": 35
        },
        "id": "WoGKBavzWTP2",
        "outputId": "b56e9656-408f-4230-c36b-862c6014538d"
      },
      "source": [
        "df_train[\"title\"].values[1]"
      ],
      "execution_count": 37,
      "outputs": [
        {
          "output_type": "execute_result",
          "data": {
            "application/vnd.google.colaboratory.intrinsic+json": {
              "type": "string"
            },
            "text/plain": [
              "'실리콘밸리 넘어서겠다…구글 15조원 들여 美전역 거점화'"
            ]
          },
          "metadata": {
            "tags": []
          },
          "execution_count": 37
        }
      ]
    },
    {
      "cell_type": "code",
      "metadata": {
        "colab": {
          "base_uri": "https://localhost:8080/"
        },
        "id": "SlWpXljG3D54",
        "outputId": "de34a4cc-4a47-48ff-bed5-4f57dd7a3366"
      },
      "source": [
        "# train & label data load\n",
        "'''\n",
        "- train_data: index, title, topic_idx\n",
        "- topic_dict: topic, topic_idx\n",
        "- test_data: index, title\n",
        "'''\n",
        "PATH = \"./\"\n",
        "df_train = pd.read_csv(PATH + \"train_data.csv\")\n",
        "df_test = pd.read_csv(PATH + \"test_data.csv\")\n",
        "topic_dict = pd.read_csv(PATH + \"topic_dict.csv\")\n",
        "kr_stopwords_list = pd.read_csv(PATH + \"korean_stopwords.csv\", header = None, names = ['word'])[\"word\"].tolist()\n",
        "\n",
        "# preprocessing\n",
        "# html tag 및 숫자, 영어, 특수문자 등 제거\n",
        "\n",
        "# punctuation remove\n",
        "def clean_punc(text):\n",
        "\n",
        "    punct = \"/-'?!.,#$%\\'()*+-/:;<=>@[\\\\]^_`{|}~\" + '\"\"“”’' + '∞θ÷α•à−β∅³π‘₹´°£€\\×™√²—–&' \n",
        "    punct_mapping = {\n",
        "        \"‘\": \"'\", \"₹\": \"e\", \"´\": \"'\", \"°\": \"\", \"€\": \"e\", \"™\": \"tm\", \"√\": \" sqrt \",\n",
        "        \"×\": \"x\", \"²\": \"2\", \"—\": \"-\", \"–\": \"-\", \"’\": \"'\", \"_\": \"-\", \"`\": \"'\", '“': '\"', \n",
        "        '”': '\"', '“': '\"', \"£\": \"e\", '∞': 'infinity', 'θ': 'theta', '÷': '/', 'α': 'alpha',\n",
        "        '•': '.', 'à': 'a', '−': '-', 'β': 'beta', '∅': '', '³': '3', 'π': 'pi', }\n",
        "\n",
        "    for p in punct_mapping:\n",
        "        text = text.replace(p, punct_mapping[p])\n",
        "    \n",
        "    for p in punct:\n",
        "        text = text.replace(p, f'{p}')\n",
        "\n",
        "    specials = {'\\u200b': ' ', '…': ' ... ', '\\ufeff': '', 'करना': '', 'है': ''}\n",
        "\n",
        "    for s in specials:\n",
        "        text = text.replace(s, specials[s])\n",
        "\n",
        "    return text.strip()\n",
        "\n",
        "# using re to preprocess: remove punct, html tag, number, and lowering, spacing\n",
        "def clean_text(texts):\n",
        "\n",
        "    corpus = []\n",
        "    for i in range(0, len(texts)):\n",
        "\n",
        "        review = re.sub(r'[@%\\\\*=()/~#&\\+á?\\xc3\\xa1\\-\\|\\.\\:\\;\\!\\-\\,\\_\\~\\$\\'\\\"]', '',str(texts[i])) #remove punctuation\n",
        "        review = re.sub(r'\\d+','',str(texts[i])) # remove number\n",
        "        review = review.lower() #lower case\n",
        "        review = re.sub(r'\\s+',' ', review)\n",
        "        review = re.sub(r'<[^>]+>','',review) #remove Html tags \n",
        "        review = re.sub(r'\\s+', ' ', review) #remove spaces \n",
        "        review = re.sub(r\"^\\s+\", '', review) #remove space from start \n",
        "        review = re.sub(r'\\s+$', '', review) #remove space from the end corpus.append(review) return corpus\n",
        "\n",
        "        corpus.append(review)\n",
        "\n",
        "    return corpus\n",
        "\n",
        "# dacon sample function\n",
        "def clean_text_dacon(text):\n",
        "    text_clean = re.sub(\"[^가-힣ㄱ-ㅎㅏ-ㅣ\\\\s]\", \" \", text)\n",
        "    return text_clean\n",
        "\n",
        "# 맞춤법, 문장 분리, 단어 분리(외부 라이브러리 이용)\n",
        "    \n",
        "'''\n",
        "\n",
        "try:\n",
        "    from pykospacing import spacing\n",
        "    from hanspell import spell_checker\n",
        "    import kss\n",
        "except:\n",
        "    pip install git+https://github.com/haven-jeon/PyKoSpacing.git\n",
        "    pip install kss\n",
        "    pip install py-hanspell\n",
        "    from pykospacing import spacing\n",
        "    from hanspell import spell_checker\n",
        "    import kss\n",
        "    \n",
        "'''\n",
        "\n",
        "\n",
        "spacing = Spacing()\n",
        "def text_spacing(text):\n",
        "    text_spacing = spacing(text)\n",
        "    return text_spacing\n",
        "\n",
        "# stemming: 동사를 원형으로 복원\n",
        "# 불용어 제거, nltk\n",
        "# 불용어 제거는 먼저 토큰화가 이루어져야 한다. \n",
        "    \n",
        "wnl = WordNetLemmatizer()\n",
        "\n",
        "def stem_stopwords(text):\n",
        "    corpus = [wnl.lemmatize(word) for word in text.split(' ') if not word in kr_stopwords_list]\n",
        "    return corpus\n",
        "\n",
        "# preprocessing: stopword, spacing, stemming, remove punctuation\n",
        "\n",
        "def preprocessing(df):\n",
        "\n",
        "    df_copy = df.copy()\n",
        "    texts = df_copy[\"title\"].values\n",
        "\n",
        "    text_inputs = []\n",
        "\n",
        "    for text in texts:\n",
        "\n",
        "        text_clean = clean_punc(text)\n",
        "        text_clean = clean_text_dacon(text_clean)\n",
        "        # 시간이 오래 걸리는 관계로 spacing함수를 쓰지 않고 split으로 진행\n",
        "        # text_sc = text_spacing(text_clean)\n",
        "        text_sc = text_clean\n",
        "        corpus_stem_stopwords = stem_stopwords(text_sc)\n",
        "        text_inputs.append(corpus_stem_stopwords)\n",
        "\n",
        "    return text_inputs\n",
        "\n",
        "# tokenized\n",
        "\n",
        "from tensorflow.keras.preprocessing.text import Tokenizer\n",
        "from tensorflow.keras.preprocessing.text import text_to_word_sequence\n",
        "from tensorflow.keras.preprocessing.sequence import pad_sequences\n",
        "\n",
        "text_preprocessed = preprocessing(df_train)\n",
        "tokenizer = Tokenizer(filters = \" \", num_words = 20000)\n",
        "\n",
        "tokenizer.fit_on_texts(text_preprocessed)\n",
        "datasets_token = tokenizer.texts_to_sequences(text_preprocessed)\n",
        "datasets = pad_sequences(datasets_token, padding = \"post\", dtype = \"int32\")\n",
        "print(datasets.shape)\n",
        "\n",
        "# train - test data split\n",
        "labels = df_train[\"topic_idx\"].values.reshape(-1,).astype('int32')\n",
        "x_train, x_test, y_train, y_test = train_test_split(datasets, labels, test_size = 0.3, shuffle = True, random_state = 42)"
      ],
      "execution_count": 118,
      "outputs": [
        {
          "output_type": "stream",
          "text": [
            "(45654, 33)\n"
          ],
          "name": "stdout"
        }
      ]
    },
    {
      "cell_type": "code",
      "metadata": {
        "colab": {
          "base_uri": "https://localhost:8080/"
        },
        "id": "Ue8zVPggh2_x",
        "outputId": "f9696e6e-71a3-410e-d593-e614b70ea962"
      },
      "source": [
        "print(type(x_train), x_train[0])\n",
        "print(type(y_train), y_train[0])"
      ],
      "execution_count": 114,
      "outputs": [
        {
          "output_type": "stream",
          "text": [
            "<class 'numpy.ndarray'> [   1    1    1 2526 4164 2160    8    0    0    0    0    0    0    0\n",
            "    0    0    0    0    0    0    0    0    0    0    0    0    0    0\n",
            "    0    0    0    0    0]\n",
            "<class 'numpy.ndarray'> 1\n"
          ],
          "name": "stdout"
        }
      ]
    },
    {
      "cell_type": "code",
      "metadata": {
        "colab": {
          "base_uri": "https://localhost:8080/"
        },
        "id": "V18kzg5SrDAC",
        "outputId": "706c06f0-9c3d-4f0c-af52-ec2cd45c1fbc"
      },
      "source": [
        ""
      ],
      "execution_count": 110,
      "outputs": [
        {
          "output_type": "execute_result",
          "data": {
            "text/plain": [
              "1"
            ]
          },
          "metadata": {
            "tags": []
          },
          "execution_count": 110
        }
      ]
    },
    {
      "cell_type": "code",
      "metadata": {
        "colab": {
          "base_uri": "https://localhost:8080/",
          "height": 1000
        },
        "id": "mKkzcjMAcFGt",
        "outputId": "6e4ac7e7-58ea-4723-9b37-524320c061d8"
      },
      "source": [
        "#model parameter\n",
        "\n",
        "vocab_size = tokenizer.num_words\n",
        "maxlen = x_train.shape[1]\n",
        "embed_dim = 32\n",
        "num_heads = 2\n",
        "ff_dim = 32\n",
        "\n",
        "# Transformer block\n",
        "\n",
        "class TransformerBlock(tf.keras.layers.Layer):\n",
        "    def __init__(self, embed_dim, num_heads, ff_dim, rate = 0.1):\n",
        "        super(TransformerBlock, self).__init__()\n",
        "        self.att = tf.keras.layers.MultiHeadAttention(num_heads = num_heads, key_dim = embed_dim)\n",
        "        self.ffn = tf.keras.models.Sequential(\n",
        "            [tf.keras.layers.Dense(ff_dim, activation = \"relu\"), tf.keras.layers.Dense(embed_dim)]\n",
        "        )\n",
        "\n",
        "        self.layernorm1 = tf.keras.layers.LayerNormalization(epsilon = 1e-6)\n",
        "        self.layernorm2 = tf.keras.layers.LayerNormalization(epsilon=1e-6)\n",
        "        self.dropout1 = tf.keras.layers.Dropout(rate)\n",
        "        self.dropout2 = tf.keras.layers.Dropout(rate)\n",
        "\n",
        "    def call(self, inputs, training = True):\n",
        "        attn_output = self.att(inputs, inputs)\n",
        "        attn_output = self.dropout1(attn_output, training=training)\n",
        "        out1 = self.layernorm1(inputs + attn_output)\n",
        "        ffn_output = self.ffn(out1)\n",
        "        ffn_output = self.dropout2(ffn_output, training=training)\n",
        "        return self.layernorm2(out1 + ffn_output)\n",
        "\n",
        "class TokenAndPositionEmbedding(tf.keras.layers.Layer):\n",
        "    def __init__(self, maxlen, vocab_size, embed_dim):\n",
        "        super(TokenAndPositionEmbedding, self).__init__()\n",
        "        self.token_emb = tf.keras.layers.Embedding(input_dim=vocab_size, output_dim=embed_dim)\n",
        "        self.pos_emb = tf.keras.layers.Embedding(input_dim=maxlen, output_dim=embed_dim)\n",
        "        self.maxlen = maxlen\n",
        "\n",
        "    def call(self, x):\n",
        "        maxlen = self.maxlen\n",
        "        positions = tf.range(start=0, limit = maxlen, delta=1)\n",
        "        positions = self.pos_emb(positions)\n",
        "        x = self.token_emb(x)\n",
        "        return x + positions    \n",
        "\n",
        "\n",
        "inputs = tf.keras.layers.Input(shape = (maxlen,), dtype = \"int32\")\n",
        "embedding_layer = TokenAndPositionEmbedding(maxlen, vocab_size, embed_dim)\n",
        "x = embedding_layer(inputs)\n",
        "transformer_block = TransformerBlock(embed_dim, num_heads, ff_dim, rate = 0.2)\n",
        "x = transformer_block(x)\n",
        "x = tf.keras.layers.GlobalAveragePooling1D()(x)\n",
        "x = tf.keras.layers.Dropout(0.2)(x)\n",
        "x = tf.keras.layers.Dense(64, activation=\"relu\")(x)\n",
        "x = tf.keras.layers.Dropout(0.2)(x)\n",
        "outputs = tf.keras.layers.Dense(7, activation=\"softmax\")(x)\n",
        "\n",
        "model = tf.keras.models.Model(inputs=inputs, outputs=outputs, name = \"transformer\")\n",
        "model.compile(\n",
        "    #optimizer = tf.keras.optimizers.Adam(learning_rate = 1e-3),\n",
        "    optimizer = tf.keras.optimizers.RMSprop(learning_rate=1e-4),\n",
        "    loss = tf.keras.losses.SparseCategoricalCrossentropy(),\n",
        "    metrics = [\"accuracy\"]\n",
        ")\n",
        "\n",
        "# training\n",
        "\n",
        "batch_size = 128\n",
        "epochs = 64\n",
        "\n",
        "es = tf.keras.callbacks.EarlyStopping(monitor = \"val_loss\", mode = \"min\", patience = 12, verbose = 0)\n",
        "mc = tf.keras.callbacks.ModelCheckpoint(\"transformer_weights.h5\",monitor = \"val_loss\", mode = \"min\", patience = 12, save_best_only=True, save_weights_only = True)\n",
        "lr = tf.keras.callbacks.ReduceLROnPlateau(monitor = \"val_loss\", factor = 0.1, patience = 4, mode= \"min\", verbose = 0)\n",
        "\n",
        "callbacks_params = [es, mc, lr]\n",
        "\n",
        "tf.debugging.set_log_device_placement(True)\n",
        "with tf.device(\"gpu:0\"):\n",
        "    hist = model.fit(x_train, y_train, validation_data = (x_test, y_test), \n",
        "                     epochs = epochs, batch_size = batch_size, verbose = 1,\n",
        "                     callbacks = callbacks_params)\n",
        "    loss, acc = hist.history[\"loss\"], hist.history[\"accuracy\"]\n",
        "    epoch_axis = range(1, len(loss) + 1)\n",
        "    plt.plot(epoch_axis, loss, \"r\", label = \"train loss\")\n",
        "    plt.xlabel(\"epochs\")\n",
        "    plt.ylabel(\"loss\")\n",
        "    plt.legend()\n",
        "    plt.show() "
      ],
      "execution_count": 132,
      "outputs": [
        {
          "output_type": "stream",
          "text": [
            "Epoch 1/64\n",
            "250/250 [==============================] - 4s 11ms/step - loss: 1.9321 - accuracy: 0.1827 - val_loss: 1.8855 - val_accuracy: 0.2203\n",
            "Epoch 2/64\n",
            "250/250 [==============================] - 2s 10ms/step - loss: 1.8795 - accuracy: 0.2295 - val_loss: 1.8355 - val_accuracy: 0.2858\n",
            "Epoch 3/64\n",
            "250/250 [==============================] - 2s 9ms/step - loss: 1.8170 - accuracy: 0.2886 - val_loss: 1.7353 - val_accuracy: 0.4101\n",
            "Epoch 4/64\n",
            "250/250 [==============================] - 2s 10ms/step - loss: 1.6870 - accuracy: 0.3815 - val_loss: 1.5540 - val_accuracy: 0.4722\n",
            "Epoch 5/64\n",
            "250/250 [==============================] - 3s 10ms/step - loss: 1.4714 - accuracy: 0.4831 - val_loss: 1.3345 - val_accuracy: 0.5419\n",
            "Epoch 6/64\n",
            "250/250 [==============================] - 3s 10ms/step - loss: 1.2481 - accuracy: 0.5605 - val_loss: 1.1110 - val_accuracy: 0.6250\n",
            "Epoch 7/64\n",
            "250/250 [==============================] - 2s 10ms/step - loss: 1.0752 - accuracy: 0.6245 - val_loss: 1.0170 - val_accuracy: 0.6443\n",
            "Epoch 8/64\n",
            "250/250 [==============================] - 2s 10ms/step - loss: 0.9569 - accuracy: 0.6727 - val_loss: 0.9290 - val_accuracy: 0.6809\n",
            "Epoch 9/64\n",
            "250/250 [==============================] - 2s 10ms/step - loss: 0.8713 - accuracy: 0.7042 - val_loss: 0.8839 - val_accuracy: 0.6986\n",
            "Epoch 10/64\n",
            "250/250 [==============================] - 3s 10ms/step - loss: 0.8125 - accuracy: 0.7248 - val_loss: 0.8560 - val_accuracy: 0.7121\n",
            "Epoch 11/64\n",
            "250/250 [==============================] - 2s 10ms/step - loss: 0.7570 - accuracy: 0.7482 - val_loss: 0.8637 - val_accuracy: 0.7069\n",
            "Epoch 12/64\n",
            "250/250 [==============================] - 2s 9ms/step - loss: 0.7178 - accuracy: 0.7644 - val_loss: 0.9072 - val_accuracy: 0.6933\n",
            "Epoch 13/64\n",
            "250/250 [==============================] - 2s 9ms/step - loss: 0.6838 - accuracy: 0.7766 - val_loss: 0.7905 - val_accuracy: 0.7373\n",
            "Epoch 14/64\n",
            "250/250 [==============================] - 2s 10ms/step - loss: 0.6505 - accuracy: 0.7894 - val_loss: 0.8681 - val_accuracy: 0.7170\n",
            "Epoch 15/64\n",
            "250/250 [==============================] - 2s 10ms/step - loss: 0.6261 - accuracy: 0.7993 - val_loss: 0.7882 - val_accuracy: 0.7428\n",
            "Epoch 16/64\n",
            "250/250 [==============================] - 2s 10ms/step - loss: 0.6008 - accuracy: 0.8093 - val_loss: 0.7542 - val_accuracy: 0.7546\n",
            "Epoch 17/64\n",
            "250/250 [==============================] - 2s 9ms/step - loss: 0.5770 - accuracy: 0.8199 - val_loss: 0.7802 - val_accuracy: 0.7524\n",
            "Epoch 18/64\n",
            "250/250 [==============================] - 2s 9ms/step - loss: 0.5535 - accuracy: 0.8270 - val_loss: 0.7435 - val_accuracy: 0.7600\n",
            "Epoch 19/64\n",
            "250/250 [==============================] - 2s 9ms/step - loss: 0.5354 - accuracy: 0.8320 - val_loss: 0.7520 - val_accuracy: 0.7628\n",
            "Epoch 20/64\n",
            "250/250 [==============================] - 2s 9ms/step - loss: 0.5139 - accuracy: 0.8411 - val_loss: 0.7445 - val_accuracy: 0.7664\n",
            "Epoch 21/64\n",
            "250/250 [==============================] - 2s 9ms/step - loss: 0.5023 - accuracy: 0.8456 - val_loss: 0.7608 - val_accuracy: 0.7641\n",
            "Epoch 22/64\n",
            "250/250 [==============================] - 2s 9ms/step - loss: 0.4861 - accuracy: 0.8499 - val_loss: 0.7208 - val_accuracy: 0.7732\n",
            "Epoch 23/64\n",
            "250/250 [==============================] - 2s 9ms/step - loss: 0.4706 - accuracy: 0.8533 - val_loss: 0.7219 - val_accuracy: 0.7755\n",
            "Epoch 24/64\n",
            "250/250 [==============================] - 2s 9ms/step - loss: 0.4548 - accuracy: 0.8597 - val_loss: 0.7672 - val_accuracy: 0.7623\n",
            "Epoch 25/64\n",
            "250/250 [==============================] - 2s 10ms/step - loss: 0.4446 - accuracy: 0.8638 - val_loss: 0.7970 - val_accuracy: 0.7491\n",
            "Epoch 26/64\n",
            "250/250 [==============================] - 2s 9ms/step - loss: 0.4343 - accuracy: 0.8654 - val_loss: 0.7178 - val_accuracy: 0.7810\n",
            "Epoch 27/64\n",
            "250/250 [==============================] - 3s 10ms/step - loss: 0.4234 - accuracy: 0.8701 - val_loss: 0.7282 - val_accuracy: 0.7787\n",
            "Epoch 28/64\n",
            "250/250 [==============================] - 2s 10ms/step - loss: 0.4136 - accuracy: 0.8745 - val_loss: 0.7248 - val_accuracy: 0.7791\n",
            "Epoch 29/64\n",
            "250/250 [==============================] - 3s 10ms/step - loss: 0.4048 - accuracy: 0.8770 - val_loss: 0.7492 - val_accuracy: 0.7694\n",
            "Epoch 30/64\n",
            "250/250 [==============================] - 3s 11ms/step - loss: 0.3994 - accuracy: 0.8787 - val_loss: 0.7400 - val_accuracy: 0.7746\n",
            "Epoch 31/64\n",
            "250/250 [==============================] - 3s 11ms/step - loss: 0.3717 - accuracy: 0.8876 - val_loss: 0.7132 - val_accuracy: 0.7854\n",
            "Epoch 32/64\n",
            "250/250 [==============================] - 3s 11ms/step - loss: 0.3750 - accuracy: 0.8880 - val_loss: 0.7130 - val_accuracy: 0.7859\n",
            "Epoch 33/64\n",
            "250/250 [==============================] - 3s 11ms/step - loss: 0.3689 - accuracy: 0.8891 - val_loss: 0.7151 - val_accuracy: 0.7856\n",
            "Epoch 34/64\n",
            "250/250 [==============================] - 2s 10ms/step - loss: 0.3708 - accuracy: 0.8895 - val_loss: 0.7165 - val_accuracy: 0.7855\n",
            "Epoch 35/64\n",
            "250/250 [==============================] - 2s 10ms/step - loss: 0.3688 - accuracy: 0.8890 - val_loss: 0.7182 - val_accuracy: 0.7846\n",
            "Epoch 36/64\n",
            "250/250 [==============================] - 3s 10ms/step - loss: 0.3691 - accuracy: 0.8887 - val_loss: 0.7170 - val_accuracy: 0.7860\n",
            "Epoch 37/64\n",
            "250/250 [==============================] - 3s 10ms/step - loss: 0.3636 - accuracy: 0.8915 - val_loss: 0.7169 - val_accuracy: 0.7862\n",
            "Epoch 38/64\n",
            "250/250 [==============================] - 3s 10ms/step - loss: 0.3632 - accuracy: 0.8907 - val_loss: 0.7167 - val_accuracy: 0.7863\n",
            "Epoch 39/64\n",
            "250/250 [==============================] - 3s 10ms/step - loss: 0.3627 - accuracy: 0.8904 - val_loss: 0.7173 - val_accuracy: 0.7870\n",
            "Epoch 40/64\n",
            "250/250 [==============================] - 3s 10ms/step - loss: 0.3650 - accuracy: 0.8908 - val_loss: 0.7175 - val_accuracy: 0.7854\n",
            "Epoch 41/64\n",
            "250/250 [==============================] - 3s 10ms/step - loss: 0.3614 - accuracy: 0.8914 - val_loss: 0.7175 - val_accuracy: 0.7859\n",
            "Epoch 42/64\n",
            "250/250 [==============================] - 3s 10ms/step - loss: 0.3637 - accuracy: 0.8909 - val_loss: 0.7174 - val_accuracy: 0.7859\n",
            "Epoch 43/64\n",
            "250/250 [==============================] - 3s 10ms/step - loss: 0.3633 - accuracy: 0.8915 - val_loss: 0.7174 - val_accuracy: 0.7859\n",
            "Epoch 44/64\n",
            "250/250 [==============================] - 3s 10ms/step - loss: 0.3637 - accuracy: 0.8914 - val_loss: 0.7174 - val_accuracy: 0.7860\n"
          ],
          "name": "stdout"
        },
        {
          "output_type": "display_data",
          "data": {
            "image/png": "[encoded data removed]",
            "text/plain": [
              "<Figure size 432x288 with 1 Axes>"
            ]
          },
          "metadata": {
            "tags": [],
            "needs_background": "light"
          }
        }
      ]
    },
    {
      "cell_type": "code",
      "metadata": {
        "colab": {
          "base_uri": "https://localhost:8080/",
          "height": 17
        },
        "id": "_5JFZpQglICG",
        "outputId": "daf88e76-8fa9-421b-8377-4c48bf4991b4"
      },
      "source": [
        "from google.colab import files\n",
        "\n",
        "# test file -> convert word embedding vector\n",
        "\n",
        "submission_test = preprocessing(df_test)\n",
        "submission_test = tokenizer.texts_to_sequences(submission_test)\n",
        "submission_test = pad_sequences(submission_test, padding = \"post\", dtype = \"int32\", maxlen = maxlen)\n",
        "\n",
        "def softmax_toIdx(predictions):\n",
        "    topic_Idx = np.argmax(predictions, axis = 1).reshape(-1,1)\n",
        "    return topic_Idx\n",
        "\n",
        "# prediction\n",
        "submission_topic = softmax_toIdx(model.predict(submission_test))\n",
        "\n",
        "# submission \n",
        "submission = pd.read_csv(PATH + \"sample_submission.csv\")\n",
        "submission[\"topic_idx\"] = submission_topic\n",
        "submission.to_csv(\"submission.csv\", index = False)\n",
        "files.download(\"submission.csv\")"
      ],
      "execution_count": 154,
      "outputs": [
        {
          "output_type": "display_data",
          "data": {
            "application/javascript": [
              "\n",
              "    async function download(id, filename, size) {\n",
              "      if (!google.colab.kernel.accessAllowed) {\n",
              "        return;\n",
              "      }\n",
              "      const div = document.createElement('div');\n",
              "      const label = document.createElement('label');\n",
              "      label.textContent = `Downloading \"${filename}\": `;\n",
              "      div.appendChild(label);\n",
              "      const progress = document.createElement('progress');\n",
              "      progress.max = size;\n",
              "      div.appendChild(progress);\n",
              "      document.body.appendChild(div);\n",
              "\n",
              "      const buffers = [];\n",
              "      let downloaded = 0;\n",
              "\n",
              "      const channel = await google.colab.kernel.comms.open(id);\n",
              "      // Send a message to notify the kernel that we're ready.\n",
              "      channel.send({})\n",
              "\n",
              "      for await (const message of channel.messages) {\n",
              "        // Send a message to notify the kernel that we're ready.\n",
              "        channel.send({})\n",
              "        if (message.buffers) {\n",
              "          for (const buffer of message.buffers) {\n",
              "            buffers.push(buffer);\n",
              "            downloaded += buffer.byteLength;\n",
              "            progress.value = downloaded;\n",
              "          }\n",
              "        }\n",
              "      }\n",
              "      const blob = new Blob(buffers, {type: 'application/binary'});\n",
              "      const a = document.createElement('a');\n",
              "      a.href = window.URL.createObjectURL(blob);\n",
              "      a.download = filename;\n",
              "      div.appendChild(a);\n",
              "      a.click();\n",
              "      div.remove();\n",
              "    }\n",
              "  "
            ],
            "text/plain": [
              "<IPython.core.display.Javascript object>"
            ]
          },
          "metadata": {
            "tags": []
          }
        },
        {
          "output_type": "display_data",
          "data": {
            "application/javascript": [
              "download(\"download_0c531a44-6580-41ec-a519-8842e345c373\", \"submission.csv\", 73064)"
            ],
            "text/plain": [
              "<IPython.core.display.Javascript object>"
            ]
          },
          "metadata": {
            "tags": []
          }
        }
      ]
    }
  ]
}